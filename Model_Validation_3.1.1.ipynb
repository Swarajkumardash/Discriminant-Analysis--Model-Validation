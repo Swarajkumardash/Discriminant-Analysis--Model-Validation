{
 "cells": [
  {
   "cell_type": "code",
   "execution_count": 1,
   "id": "51bd45bb-75d6-49a8-8f55-a7c027158a06",
   "metadata": {},
   "outputs": [
    {
     "name": "stdout",
     "output_type": "stream",
     "text": [
      "Requirement already satisfied: optuna in c:\\users\\swara\\anaconda3\\lib\\site-packages (4.4.0)\n",
      "Requirement already satisfied: alembic>=1.5.0 in c:\\users\\swara\\anaconda3\\lib\\site-packages (from optuna) (1.16.4)\n",
      "Requirement already satisfied: colorlog in c:\\users\\swara\\anaconda3\\lib\\site-packages (from optuna) (6.9.0)\n",
      "Requirement already satisfied: numpy in c:\\users\\swara\\anaconda3\\lib\\site-packages (from optuna) (1.26.4)\n",
      "Requirement already satisfied: packaging>=20.0 in c:\\users\\swara\\anaconda3\\lib\\site-packages (from optuna) (23.2)\n",
      "Requirement already satisfied: sqlalchemy>=1.4.2 in c:\\users\\swara\\anaconda3\\lib\\site-packages (from optuna) (2.0.30)\n",
      "Requirement already satisfied: tqdm in c:\\users\\swara\\anaconda3\\lib\\site-packages (from optuna) (4.66.4)\n",
      "Requirement already satisfied: PyYAML in c:\\users\\swara\\anaconda3\\lib\\site-packages (from optuna) (6.0.1)\n",
      "Requirement already satisfied: Mako in c:\\users\\swara\\anaconda3\\lib\\site-packages (from alembic>=1.5.0->optuna) (1.3.10)\n",
      "Requirement already satisfied: typing-extensions>=4.12 in c:\\users\\swara\\anaconda3\\lib\\site-packages (from alembic>=1.5.0->optuna) (4.14.1)\n",
      "Requirement already satisfied: greenlet!=0.4.17 in c:\\users\\swara\\anaconda3\\lib\\site-packages (from sqlalchemy>=1.4.2->optuna) (3.0.1)\n",
      "Requirement already satisfied: colorama in c:\\users\\swara\\anaconda3\\lib\\site-packages (from colorlog->optuna) (0.4.6)\n",
      "Requirement already satisfied: MarkupSafe>=0.9.2 in c:\\users\\swara\\anaconda3\\lib\\site-packages (from Mako->alembic>=1.5.0->optuna) (2.1.3)\n"
     ]
    }
   ],
   "source": [
    "# import libraries \n",
    "import numpy as np\n",
    "import pandas as pd\n",
    "import re\n",
    "import os\n",
    "from sklearn.metrics import ConfusionMatrixDisplay\n",
    "from sklearn.utils import shuffle\n",
    "from matplotlib.backends.backend_pdf import PdfPages\n",
    "from sklearn.preprocessing import LabelEncoder\n",
    "from patsy import dmatrices\n",
    "from sklearn.feature_selection import SelectFromModel\n",
    "from sklearn.linear_model import Lasso, LogisticRegression\n",
    "from sklearn.feature_selection import RFE\n",
    "from sklearn.linear_model import LogisticRegression\n",
    "from sklearn.feature_selection import RFECV\n",
    "from scipy.stats import entropy\n",
    "import statsmodels.formula.api as sm\n",
    "import scipy.stats as stats\n",
    "from statsmodels.stats.outliers_influence import variance_inflation_factor\n",
    "import itertools\n",
    "import inspect\n",
    "import datetime\n",
    "import pandas as pd\n",
    "import numpy as np\n",
    "from scipy import stats\n",
    "from scipy.stats import chi2\n",
    "from scipy.stats import entropy\n",
    "import datetime\n",
    "import plotly.graph_objects as go\n",
    "!pip install optuna\n",
    "import optuna\n",
    "from sklearn.model_selection import train_test_split\n",
    "from sklearn.preprocessing import StandardScaler\n",
    "from sklearn.linear_model import LogisticRegression\n",
    "from sklearn.pipeline import Pipeline\n",
    "from sklearn.metrics import roc_curve, roc_auc_score, classification_report, accuracy_score, confusion_matrix \n",
    "import seaborn as sns\n",
    "import matplotlib.pyplot as plt\n",
    "from dateutil.relativedelta import relativedelta\n",
    "from sklearn.metrics import precision_recall_curve\n",
    "import matplotlib.pyplot as plt\n",
    "from sklearn.ensemble import RandomForestClassifier\n",
    "from sklearn.model_selection import cross_val_score\n",
    "from sklearn.metrics import classification_report, confusion_matrix\n",
    "from sklearn import model_selection,ensemble,metrics\n",
    "from sklearn.feature_selection import RFECV\n",
    "from sklearn.model_selection import GridSearchCV, RandomizedSearchCV,StratifiedKFold\n",
    "from sklearn.metrics import roc_curve, precision_recall_curve, auc, make_scorer, recall_score, accuracy_score, precision_score, confusion_matrix\n",
    "from sklearn.preprocessing import MinMaxScaler\n",
    "from sklearn.impute import KNNImputer\n",
    "import joblib\n",
    "import numpy as np\n",
    "from sklearn.experimental import enable_iterative_imputer\n",
    "from sklearn.impute import IterativeImputer\n",
    "from sklearn.linear_model import LinearRegression\n",
    "from subprocess import check_output\n",
    "from sklearn import model_selection\n",
    "from IPython.display import display, HTML\n",
    "from matplotlib import pyplot as plt\n",
    "import matplotlib.patches as mpatches\n",
    "from scipy.stats import chi2_contingency\n",
    "import seaborn as sns\n",
    "from sklearn import preprocessing\n",
    "%matplotlib inline\n",
    "pd.set_option('display.max_rows', 500)\n",
    "pd.set_option('display.max_columns', 500)\n",
    "pd.set_option('display.width', 1000)\n",
    "import pandas as pd\n",
    "from sklearn.linear_model import LogisticRegression\n",
    "from statsmodels.tools import add_constant\n",
    "import statsmodels.api as sm"
   ]
  },
  {
   "cell_type": "code",
   "execution_count": 3,
   "id": "644d5885-413a-478e-bbf4-d3e2ab582d46",
   "metadata": {},
   "outputs": [],
   "source": [
    "df = pd.read_csv('Validation_Data_working_file.csv')"
   ]
  },
  {
   "cell_type": "code",
   "execution_count": 34,
   "id": "7d95777e-a0fc-474c-9566-32a32aaa6fd9",
   "metadata": {},
   "outputs": [],
   "source": [
    "df1=df.copy()"
   ]
  },
  {
   "cell_type": "code",
   "execution_count": 4,
   "id": "3bd8fd5d-1540-4d15-ba19-12379fb60948",
   "metadata": {},
   "outputs": [
    {
     "name": "stdout",
     "output_type": "stream",
     "text": [
      "Total Goods %: 63.47%\n",
      "Total Bads %: 36.53%\n"
     ]
    }
   ],
   "source": [
    "#Model Validation TTes 1- Total Goods vs Total Bads percentage as a proportion of total count of borrowers\n",
    "total_count = len(df)\n",
    "total_goods = (df['default'] == 0).sum()\n",
    "total_bads = (df['default'] == 1).sum()\n",
    "\n",
    "goods_percent = (total_goods / total_count) * 100\n",
    "bads_percent = (total_bads / total_count) * 100\n",
    "\n",
    "print(f\"Total Goods %: {goods_percent:.2f}%\")\n",
    "print(f\"Total Bads %: {bads_percent:.2f}%\")\n"
   ]
  },
  {
   "cell_type": "code",
   "execution_count": 5,
   "id": "6e3c1506-40fe-450b-8dd9-c62f15650dcb",
   "metadata": {},
   "outputs": [
    {
     "name": "stdout",
     "output_type": "stream",
     "text": [
      "1500\n"
     ]
    }
   ],
   "source": [
    "print(df.shape[0])\n"
   ]
  },
  {
   "cell_type": "code",
   "execution_count": 6,
   "id": "0b89c485-c45d-4d57-8336-a0da7b1b16e2",
   "metadata": {},
   "outputs": [
    {
     "name": "stdout",
     "output_type": "stream",
     "text": [
      "Total Goods (count of 0s): 952\n",
      "Total Bads (count of 1s): 548\n"
     ]
    }
   ],
   "source": [
    "#Print count of total goods and total bads\n",
    "total_goods = (df['default'] == 0).sum()\n",
    "total_bads = (df['default'] == 1).sum()\n",
    "\n",
    "print(f\"Total Goods (count of 0s): {total_goods}\")\n",
    "print(f\"Total Bads (count of 1s): {total_bads}\")\n"
   ]
  },
  {
   "cell_type": "code",
   "execution_count": 7,
   "id": "341a847a-ba63-47e2-b229-7fc4ebe9fe2a",
   "metadata": {},
   "outputs": [
    {
     "name": "stdout",
     "output_type": "stream",
     "text": [
      "1500\n"
     ]
    }
   ],
   "source": [
    "print(df.shape[0])\n"
   ]
  },
  {
   "cell_type": "code",
   "execution_count": 8,
   "id": "82c731da-7399-42dc-bf7f-57f2447b0853",
   "metadata": {},
   "outputs": [
    {
     "name": "stdout",
     "output_type": "stream",
     "text": [
      "Minimum Score: 61.04005322\n",
      "Maximum Score: 843.3970981\n"
     ]
    }
   ],
   "source": [
    "#Print min. and max. scores\n",
    "min_score = df['Score'].min()\n",
    "max_score = df['Score'].max()\n",
    "\n",
    "print(f\"Minimum Score: {min_score}\")\n",
    "print(f\"Maximum Score: {max_score}\")"
   ]
  },
  {
   "cell_type": "code",
   "execution_count": 9,
   "id": "81af596d-0a04-49d6-a8f9-d4edbdc0c170",
   "metadata": {},
   "outputs": [
    {
     "name": "stdout",
     "output_type": "stream",
     "text": [
      "1500\n"
     ]
    }
   ],
   "source": [
    "print(df.shape[0])\n"
   ]
  },
  {
   "cell_type": "code",
   "execution_count": 54,
   "id": "5f3b0dea-7120-4ea2-8c5c-72138100a31b",
   "metadata": {},
   "outputs": [
    {
     "name": "stdout",
     "output_type": "stream",
     "text": [
      "Formatted Buckets (Inclusive Lower, Exclusive Upper):\n",
      "[0,60)\n",
      "[60,72)\n",
      "[72,84)\n",
      "[84,96)\n",
      "[96,108)\n",
      "[108,120)\n",
      "[120,132)\n",
      "[132,144)\n",
      "[144,156)\n",
      "[156,168)\n",
      "[168,180)\n",
      "[180,192)\n",
      "[192,204)\n",
      "[204,216)\n",
      "[216,228)\n",
      "[228,240)\n",
      "[240,252)\n",
      "[252,264)\n",
      "[264,276)\n",
      "[276,288)\n",
      "[288,300)\n",
      "[300,312)\n",
      "[312,324)\n",
      "[324,336)\n",
      "[336,348)\n",
      "[348,360)\n",
      "[360,372)\n",
      "[372,384)\n",
      "[384,396)\n",
      "[396,408)\n",
      "[408,420)\n",
      "[420,432)\n",
      "[432,444)\n",
      "[444,456)\n",
      "[456,468)\n",
      "[468,480)\n",
      "[480,492)\n",
      "[492,504)\n",
      "[504,516)\n",
      "[516,528)\n",
      "[528,540)\n",
      "[540,552)\n",
      "[552,564)\n",
      "[564,576)\n",
      "[576,588)\n",
      "[588,600)\n",
      "[600,612)\n",
      "[612,624)\n",
      "[624,636)\n",
      "[636,648)\n",
      "[648,660)\n",
      "[660,672)\n",
      "[672,684)\n",
      "[684,696)\n",
      "[696,708)\n",
      "[708,720)\n",
      "[720,732)\n",
      "[732,744)\n",
      "[744,756)\n",
      "[756,768)\n",
      "[768,780)\n",
      "[780,792)\n",
      "[792,804)\n",
      "[804,816)\n",
      "[816,828)\n",
      "[828,840)\n",
      "[840,852)\n",
      "[852,864)\n"
     ]
    }
   ],
   "source": [
    "import numpy as np\n",
    "\n",
    "def create_formatted_buckets(max_val, bucket_size, first_bucket_upper_bound):\n",
    "    # Initialize list with first bucket: [0, 60)\n",
    "    buckets_str = [f\"[0,{first_bucket_upper_bound})\"]\n",
    "\n",
    "    # Generate lower bounds for subsequent buckets\n",
    "    lower_bounds = np.arange(first_bucket_upper_bound, max_val + bucket_size, bucket_size)\n",
    "\n",
    "    # Create buckets in [lower, upper) format\n",
    "    for lb in lower_bounds:\n",
    "        ub = lb + bucket_size\n",
    "        buckets_str.append(f\"[{int(lb)},{int(ub)})\")\n",
    "        \n",
    "    return buckets_str\n",
    "\n",
    "# Parameters\n",
    "min_actual = 61  # Not used in this logic\n",
    "max_actual = 843\n",
    "bucket_interval = 12\n",
    "initial_bucket_upper_limit = 60\n",
    "\n",
    "generated_buckets = create_formatted_buckets(max_actual, bucket_interval, initial_bucket_upper_limit)\n",
    "\n",
    "# Output\n",
    "print(\"Formatted Buckets (Inclusive Lower, Exclusive Upper):\")\n",
    "for bucket in generated_buckets:\n",
    "    print(bucket)\n"
   ]
  },
  {
   "cell_type": "code",
   "execution_count": 11,
   "id": "ce7344cc-5c4d-4d9f-9e68-5b1224ed6376",
   "metadata": {},
   "outputs": [
    {
     "name": "stdout",
     "output_type": "stream",
     "text": [
      "1500\n"
     ]
    }
   ],
   "source": [
    "print(df.shape[0])\n"
   ]
  },
  {
   "cell_type": "code",
   "execution_count": 12,
   "id": "9f7917a9-18f1-4d13-b415-aa8529b35a32",
   "metadata": {},
   "outputs": [
    {
     "name": "stdout",
     "output_type": "stream",
     "text": [
      "   branch  ncust  customer  age  ed  employ  address  income  debtinc  creddebt  othdebt  default         Y   pd_pred  Default_Pred  Grade       Score\n",
      "0       3   3017     10012   28   2       7        2      44     17.7      2.99     4.80        0  0.517544  0.626573             1     12  472.189844\n",
      "1       3   3017     10017   64   5      34       17     116     14.7      5.05    12.00        0 -6.042531  0.002370             0      2  661.473571\n",
      "2       3   3017     10030   40   1      20       12      61      4.8      1.04     1.89        0 -4.971149  0.006887             0      4  630.560048\n",
      "3       3   3017     10039   30   1      11        3      27     34.5      1.75     7.56        0  0.737179  0.676379             1     12  465.852521\n",
      "4       3   3017     10069   25   1       2        2      30     22.4      0.76     5.96        1  1.182130  0.765330             1     12  453.013953\n"
     ]
    }
   ],
   "source": [
    "print(df.head(5))"
   ]
  },
  {
   "cell_type": "code",
   "execution_count": 13,
   "id": "25dad990-08b3-4360-97f7-7e0935a01cdd",
   "metadata": {},
   "outputs": [
    {
     "name": "stdout",
     "output_type": "stream",
     "text": [
      "1500\n"
     ]
    }
   ],
   "source": [
    "print(df.shape[0])\n"
   ]
  },
  {
   "cell_type": "code",
   "execution_count": 120,
   "id": "f5165ba6-f6c7-4081-9045-f127ce72478c",
   "metadata": {},
   "outputs": [
    {
     "name": "stdout",
     "output_type": "stream",
     "text": [
      "default Score Buckets  Count of Goods  Count of Bads\n",
      "0              [0,60)               0              0\n",
      "1             [60,72)               0              1\n",
      "2             [72,84)               0              0\n",
      "3             [84,96)               0              0\n",
      "4            [96,108)               0              0\n"
     ]
    },
    {
     "name": "stderr",
     "output_type": "stream",
     "text": [
      "C:\\Users\\swara\\AppData\\Local\\Temp\\ipykernel_9304\\2795443869.py:24: FutureWarning: The default of observed=False is deprecated and will be changed to True in a future version of pandas. Pass observed=False to retain current behavior or observed=True to adopt the future default and silence this warning.\n",
      "  grouped = df.groupby(bucket_series)['default'].value_counts().unstack(fill_value=0)\n"
     ]
    }
   ],
   "source": [
    "#Create a new dataframe with count of goods and bads\n",
    "import pandas as pd\n",
    "import numpy as np\n",
    "\n",
    "# Step 1: Create bins and labels (without modifying df)\n",
    "start = 0\n",
    "first_bin_end = 60\n",
    "step = 12\n",
    "max_score = df['Score'].max()\n",
    "\n",
    "# Generate bin edges: [0, 60, 72, 84, ...]\n",
    "bins = [start, first_bin_end]\n",
    "while bins[-1] < max_score:\n",
    "    bins.append(bins[-1] + step)\n",
    "\n",
    "# Step 2: Create formatted labels like [0,60), [60,72), ...\n",
    "labels = [f\"[{bins[i]},{bins[i+1]})\" for i in range(len(bins) - 1)]\n",
    "\n",
    "# Step 3: Create a temporary bucketing Series\n",
    "# right=False → lower-inclusive, upper-exclusive\n",
    "bucket_series = pd.cut(df['Score'], bins=bins, labels=labels, right=False, include_lowest=True)\n",
    "\n",
    "# Step 4: Group by bucket and count goods and bads\n",
    "grouped = df.groupby(bucket_series)['default'].value_counts().unstack(fill_value=0)\n",
    "\n",
    "# Step 5: Rename and reset index to get a standalone DataFrame\n",
    "bucket_df = grouped.rename(columns={0: 'Count of Goods', 1: 'Count of Bads'})\n",
    "bucket_df.index.name = 'Score Buckets'  # optional clarity\n",
    "bucket_df = bucket_df.reset_index()\n",
    "\n",
    "# Step 6: View result\n",
    "print(bucket_df.head())\n"
   ]
  },
  {
   "cell_type": "code",
   "execution_count": 122,
   "id": "dc505e77-c1e8-4fa8-81f7-443b42bdbf6b",
   "metadata": {},
   "outputs": [
    {
     "name": "stdout",
     "output_type": "stream",
     "text": [
      "Total Goods: 952\n",
      "Total Bads: 548\n"
     ]
    }
   ],
   "source": [
    "total_goods = bucket_df['Count of Goods'].sum()\n",
    "total_bads = bucket_df['Count of Bads'].sum()\n",
    "\n",
    "print(f\"Total Goods: {total_goods}\")\n",
    "print(f\"Total Bads: {total_bads}\")\n"
   ]
  },
  {
   "cell_type": "code",
   "execution_count": 124,
   "id": "eed2176f-166f-4449-9a06-7cd9aad65e02",
   "metadata": {},
   "outputs": [
    {
     "name": "stdout",
     "output_type": "stream",
     "text": [
      "Bucket with max goods: [516,528) → 103 goods\n",
      "Bucket with max bads: [492,504) → 75 bads\n"
     ]
    }
   ],
   "source": [
    "#Print max. no. of goods and bads in each bucket alongwith their corresponding buckets\n",
    "# Max goods and corresponding bucket\n",
    "max_goods = bucket_df['Count of Goods'].max()\n",
    "goods_bucket = bucket_df[bucket_df['Count of Goods'] == max_goods]['Score Buckets'].values[0]\n",
    "\n",
    "# Max bads and corresponding bucket\n",
    "max_bads = bucket_df['Count of Bads'].max()\n",
    "bads_bucket = bucket_df[bucket_df['Count of Bads'] == max_bads]['Score Buckets'].values[0]\n",
    "\n",
    "print(f\"Bucket with max goods: {goods_bucket} → {max_goods} goods\")\n",
    "print(f\"Bucket with max bads: {bads_bucket} → {max_bads} bads\")\n"
   ]
  },
  {
   "cell_type": "code",
   "execution_count": 126,
   "id": "ed143149-f10c-4cf1-b34b-e01f18720652",
   "metadata": {},
   "outputs": [
    {
     "name": "stdout",
     "output_type": "stream",
     "text": [
      "default Score Buckets  Count of Goods  Count of Bads Marginal_goods Marginal_bads\n",
      "0              [0,60)               0              0           0.0%          0.0%\n",
      "1             [60,72)               0              1           0.0%         0.18%\n",
      "2             [72,84)               0              0           0.0%          0.0%\n",
      "3             [84,96)               0              0           0.0%          0.0%\n",
      "4            [96,108)               0              0           0.0%          0.0%\n",
      "Total of Marginal_goods: 100.00%\n",
      "Total of Marginal_bads: 100.00%\n"
     ]
    }
   ],
   "source": [
    "#Print Marginal goods and Marginal bads in each bucket\n",
    "# Step 1: Calculate totals\n",
    "total_goods = bucket_df['Count of Goods'].sum()\n",
    "total_bads = bucket_df['Count of Bads'].sum()\n",
    "\n",
    "# Step 2: Add percentage columns\n",
    "bucket_df['Marginal_goods'] = (bucket_df['Count of Goods'] / total_goods * 100).round(2).astype(str) + '%'\n",
    "bucket_df['Marginal_bads'] = (bucket_df['Count of Bads'] / total_bads * 100).round(2).astype(str) + '%'\n",
    "\n",
    "# Step 3: View result\n",
    "print(bucket_df[['Score Buckets', 'Count of Goods', 'Count of Bads', 'Marginal_goods', 'Marginal_bads']].head())\n",
    "\n",
    "# Compute totals using the original numeric values\n",
    "total_marginal_goods = (bucket_df['Count of Goods'].sum() / total_goods) * 100\n",
    "total_marginal_bads = (bucket_df['Count of Bads'].sum() / total_bads) * 100\n",
    "\n",
    "print(f\"Total of Marginal_goods: {total_marginal_goods:.2f}%\")\n",
    "print(f\"Total of Marginal_bads: {total_marginal_bads:.2f}%\")\n"
   ]
  },
  {
   "cell_type": "code",
   "execution_count": 128,
   "id": "f9cceefd-3374-4a9a-bcfe-ed4fcd12c933",
   "metadata": {},
   "outputs": [
    {
     "name": "stdout",
     "output_type": "stream",
     "text": [
      "Bucket with max goods: [528,540) → 9.03% goods\n",
      "Bucket with max bads: [456,468) → 9.49% bads\n"
     ]
    }
   ],
   "source": [
    "#Print max. no. of goods and bads in each bucket alongwith their corresponding buckets\n",
    "# Max goods and corresponding bucket\n",
    "max_goods = bucket_df['Marginal_goods'].max()\n",
    "goods_bucket = bucket_df[bucket_df['Marginal_goods'] == max_goods]['Score Buckets'].values[0]\n",
    "\n",
    "# Max bads and corresponding bucket\n",
    "max_bads = bucket_df['Marginal_bads'].max()\n",
    "bads_bucket = bucket_df[bucket_df['Marginal_bads'] == max_bads]['Score Buckets'].values[0]\n",
    "\n",
    "print(f\"Bucket with max goods: {goods_bucket} → {max_goods} goods\")\n",
    "print(f\"Bucket with max bads: {bads_bucket} → {max_bads} bads\")"
   ]
  },
  {
   "cell_type": "code",
   "execution_count": 130,
   "id": "2ae6eb7e-2f38-45cd-92e7-993ca84d7842",
   "metadata": {},
   "outputs": [],
   "source": [
    "#Add new column with range 1 upto the point where rows end aligning with Score Buckets\n",
    "bucket_df = bucket_df.sort_values(by='Score Buckets')  # sort by bucket labels if needed\n",
    "bucket_df['Bucket_No'] = range(1, len(bucket_df) + 1)\n"
   ]
  },
  {
   "cell_type": "code",
   "execution_count": 132,
   "id": "9a522c25-4f23-47c5-abbf-a52995cc7bba",
   "metadata": {},
   "outputs": [
    {
     "name": "stdout",
     "output_type": "stream",
     "text": [
      "default Score Buckets  Count of Goods  Count of Bads Marginal_goods Marginal_bads  Bucket_No\n",
      "0              [0,60)               0              0           0.0%          0.0%          1\n",
      "1             [60,72)               0              1           0.0%         0.18%          2\n",
      "2             [72,84)               0              0           0.0%          0.0%          3\n",
      "3             [84,96)               0              0           0.0%          0.0%          4\n",
      "4            [96,108)               0              0           0.0%          0.0%          5\n"
     ]
    }
   ],
   "source": [
    "print(bucket_df.head())"
   ]
  },
  {
   "cell_type": "code",
   "execution_count": 134,
   "id": "92212f96-3cc5-419b-b83e-1ffc13480423",
   "metadata": {},
   "outputs": [
    {
     "data": {
      "image/png": "[encoded data removed]",
      "text/plain": [
       "<Figure size 1200x600 with 1 Axes>"
      ]
     },
     "metadata": {},
     "output_type": "display_data"
    }
   ],
   "source": [
    "#Plot goods vs bads\n",
    "import matplotlib.pyplot as plt\n",
    "\n",
    "plt.figure(figsize=(12, 6))\n",
    "\n",
    "# Plot lines\n",
    "plt.plot(bucket_df['Bucket_No'], bucket_df['Count of Goods'], label='Goods', color='green', marker='o')\n",
    "plt.plot(bucket_df['Bucket_No'], bucket_df['Count of Bads'], label='Bads', color='red', marker='o')\n",
    "\n",
    "# Set custom x-ticks and tilt them at 45 degrees\n",
    "plt.xticks(bucket_df['Bucket_No'], labels=bucket_df['Bucket_No'], rotation=45)\n",
    "\n",
    "\n",
    "# Labels and title\n",
    "plt.xlabel('Bucket Number')\n",
    "plt.ylabel('Count')\n",
    "plt.title('Goods vs Bads across Score Buckets')\n",
    "\n",
    "# Set spaced ticks: Show every 2nd or 3rd tick depending on total buckets\n",
    "step = 2 if len(bucket_df) <= 20 else 3\n",
    "plt.xticks(bucket_df['Bucket_No'][::step])  # Skip every few ticks for clarity\n",
    "\n",
    "# Add grid, legend, and spacing\n",
    "plt.grid(True)\n",
    "plt.legend()\n",
    "plt.tight_layout()\n",
    "plt.show()\n"
   ]
  },
  {
   "cell_type": "code",
   "execution_count": 136,
   "id": "6ee45d3d-eb85-4717-a3b3-e2bd19d6d428",
   "metadata": {},
   "outputs": [
    {
     "name": "stdout",
     "output_type": "stream",
     "text": [
      "Count of Bads in Bucket 37: 73\n"
     ]
    }
   ],
   "source": [
    "#Print bads at bucket 37\n",
    "# Assuming bucket_df has a column named 'Bucket_No' and 'Count of Bads'\n",
    "bucket_37_bads = bucket_df.loc[bucket_df['Bucket_No'] == 37, 'Count of Bads'].values\n",
    "\n",
    "if len(bucket_37_bads) > 0:\n",
    "    print(f\"Count of Bads in Bucket 37: {bucket_37_bads[0]}\")\n",
    "else:\n",
    "    print(\"Bucket 37 not found.\")\n"
   ]
  },
  {
   "cell_type": "code",
   "execution_count": 138,
   "id": "1a5e9573-d733-4dec-ab30-29db4aad8e39",
   "metadata": {},
   "outputs": [
    {
     "name": "stdout",
     "output_type": "stream",
     "text": [
      "default Score Buckets  Count of Goods  Count of Bads Cumulative Goods % Cumulative Bads %\n",
      "0              [0,60)               0              0               0.0%              0.0%\n",
      "1             [60,72)               0              1               0.0%             0.18%\n",
      "2             [72,84)               0              0               0.0%             0.18%\n",
      "3             [84,96)               0              0               0.0%             0.18%\n",
      "4            [96,108)               0              0               0.0%             0.18%\n"
     ]
    }
   ],
   "source": [
    "#Add 2 new columns in the dataframe- Cumulative Goods % and Cumulative Bads %\n",
    "# Compute total goods and bads\n",
    "total_goods = bucket_df['Count of Goods'].sum()\n",
    "total_bads = bucket_df['Count of Bads'].sum()\n",
    "\n",
    "# Add cumulative sum columns\n",
    "bucket_df['Cumulative Goods'] = bucket_df['Count of Goods'].cumsum()\n",
    "bucket_df['Cumulative Bads'] = bucket_df['Count of Bads'].cumsum()\n",
    "\n",
    "# Compute cumulative % and format as string with % sign\n",
    "bucket_df['Cumulative Goods %'] = (bucket_df['Cumulative Goods'] / total_goods * 100).round(2).astype(str) + '%'\n",
    "bucket_df['Cumulative Bads %'] = (bucket_df['Cumulative Bads'] / total_bads * 100).round(2).astype(str) + '%'\n",
    "\n",
    "# Optional: Drop intermediate cumulative counts if not needed\n",
    "# bucket_df.drop(['Cumulative Goods', 'Cumulative Bads'], axis=1, inplace=True)\n",
    "\n",
    "# View updated DataFrame\n",
    "print(bucket_df[['Score Buckets', 'Count of Goods', 'Count of Bads', 'Cumulative Goods %', 'Cumulative Bads %']].head())\n"
   ]
  },
  {
   "cell_type": "code",
   "execution_count": 140,
   "id": "390ed7bd-e0b5-41c4-9b36-fd665ab621b8",
   "metadata": {},
   "outputs": [
    {
     "name": "stdout",
     "output_type": "stream",
     "text": [
      "Final Cumulative Goods %: 100.0%\n",
      "Final Cumulative Bads %: 100.0%\n"
     ]
    }
   ],
   "source": [
    "#Print final cumulative values\n",
    "print(\"Final Cumulative Goods %:\", bucket_df['Cumulative Goods %'].iloc[-1])\n",
    "print(\"Final Cumulative Bads %:\", bucket_df['Cumulative Bads %'].iloc[-1])\n"
   ]
  },
  {
   "cell_type": "code",
   "execution_count": 142,
   "id": "fbc93b13-5c9a-4810-8526-d1f56de7f6ce",
   "metadata": {},
   "outputs": [
    {
     "data": {
      "image/png": "[encoded data removed]",
      "text/plain": [
       "<Figure size 800x600 with 1 Axes>"
      ]
     },
     "metadata": {},
     "output_type": "display_data"
    }
   ],
   "source": [
    "# Plot ROC Curve\n",
    "from sklearn.metrics import roc_curve, roc_auc_score\n",
    "import matplotlib.pyplot as plt\n",
    "\n",
    "# Check if Score is inversely coded (higher Score = lower default risk)\n",
    "# If higher Score indicates non-default (0), invert it\n",
    "score_transformed = -df['Score']  # Use negative Score to flip direction\n",
    "# Alternatively, if Score is a probability for non-default: score_transformed = 1 - df['Score']\n",
    "\n",
    "# Use 'default' as true labels\n",
    "fpr, tpr, thresholds = roc_curve(df['default'], score_transformed)\n",
    "roc_auc = roc_auc_score(df['default'], score_transformed)\n",
    "\n",
    "# Plot ROC\n",
    "plt.figure(figsize=(8, 6))\n",
    "plt.plot(fpr, tpr, label=f'ROC Curve (AUC = {roc_auc:.2f})', color='blue')\n",
    "plt.plot([0, 1], [0, 1], 'k--', label='Random Model')\n",
    "plt.xlabel('False Positive Rate')\n",
    "plt.ylabel('True Positive Rate')\n",
    "plt.title('ROC Curve for NBFC Credit Risk Model')\n",
    "plt.legend()\n",
    "plt.grid()\n",
    "plt.show()"
   ]
  },
  {
   "cell_type": "code",
   "execution_count": 144,
   "id": "95423bc9-a2d8-431b-b367-e9e5cc9087a7",
   "metadata": {},
   "outputs": [
    {
     "name": "stdout",
     "output_type": "stream",
     "text": [
      "AUC: 0.8436024044654358\n",
      "              count        mean        std         min         25%         50%         75%         max\n",
      "Default_Pred                                                                                          \n",
      "0             874.0  556.084697  57.268222  498.875052  515.416224  536.296251  577.520942  843.397098\n",
      "1             626.0  461.413610  39.913955   61.040053  450.259091  473.377459  487.612445  498.797691\n"
     ]
    }
   ],
   "source": [
    "print(\"AUC:\", roc_auc)\n",
    "print(df.groupby('Default_Pred')['Score'].describe())\n"
   ]
  },
  {
   "cell_type": "code",
   "execution_count": null,
   "id": "5862ac53-9847-4f43-9e51-254ea1442ae3",
   "metadata": {},
   "outputs": [],
   "source": []
  }
 ],
 "metadata": {
  "kernelspec": {
   "display_name": "Python 3 (ipykernel)",
   "language": "python",
   "name": "python3"
  },
  "language_info": {
   "codemirror_mode": {
    "name": "ipython",
    "version": 3
   },
   "file_extension": ".py",
   "mimetype": "text/x-python",
   "name": "python",
   "nbconvert_exporter": "python",
   "pygments_lexer": "ipython3",
   "version": "3.12.4"
  }
 },
 "nbformat": 4,
 "nbformat_minor": 5
}
